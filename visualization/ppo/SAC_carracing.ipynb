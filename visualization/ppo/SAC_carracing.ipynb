import pandas as pd
import matplotlib.pyplot as plt
import numpy as np

def plot_sac_metrics(data_file):
    # Read the data
    df = pd.read_csv(data_file)
    
    # Create figure with three subplots stacked vertically
    fig, (ax1, ax2, ax3) = plt.subplots(3, 1, figsize=(12, 15))
    fig.suptitle('SAC Training Metrics for CarRacing', fontsize=16, y=0.95)
    
    # Add more space between subplots
    plt.subplots_adjust(hspace=0.3)

    # 1. Episode Rewards
    ax1.plot(df['Episode'], df['episode_reward'], 'b-', alpha=0.7)
    ax1.set_title('Episode Rewards', pad=10)
    ax1.set_xlabel('Episode Number', labelpad=10)
    ax1.set_ylabel('Reward', labelpad=10)
    ax1.grid(True, alpha=0.3)
    ax1.tick_params(axis='x', rotation=45)
    
    # Add small vertical padding for y-axis
    y_min, y_max = ax1.get_ylim()
    ax1.set_ylim(y_min - 0.5, y_max + 0.5)

    # 2. Training Losses
    actor_loss = ax2.plot(df['Episode'], df['actor_loss'], 'g-', 
                         alpha=0.7, label='Actor Loss')
    critic_loss = ax2.plot(df['Episode'], df['critic_loss'], 'orange', 
                          alpha=0.7, label='Critic Loss')
    ax2.set_title('Training Losses', pad=10)
    ax2.set_xlabel('Episode Number', labelpad=10)
    ax2.set_ylabel('Loss', labelpad=10)
    ax2.legend(loc='upper right')
    ax2.grid(True, alpha=0.3)
    ax2.tick_params(axis='x', rotation=45)

    # 3. Learning Rate
    ax3.plot(df['Episode'], df['actor_lr'], 'r-', alpha=0.7)
    ax3.set_title('Learning Rate Decay', pad=10)
    ax3.set_xlabel('Episode Number', labelpad=10)
    ax3.set_ylabel('Learning Rate', labelpad=10)
    ax3.grid(True, alpha=0.3)
    ax3.tick_params(axis='x', rotation=45)
    
    # Scientific notation for learning rate
    ax3.ticklabel_format(style='sci', axis='y', scilimits=(0,0))
    
    # Ensure no text overlap with layout adjustment
    plt.tight_layout()
    
    # Save the figure with high DPI for better quality
    plt.savefig('sac_training_metrics.png', dpi=300, bbox_inches='tight')
    plt.show()

# Example usage
if __name__ == "__main__":
    # Using the data from the training_metrics.csv file
    plot_sac_metrics('training_metrics.csv')
